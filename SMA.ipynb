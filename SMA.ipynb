{
 "cells": [
  {
   "cell_type": "code",
   "execution_count": 1,
   "id": "94d7f79f",
   "metadata": {},
   "outputs": [],
   "source": [
    "import pandas as pd\n",
    "import numpy as np\n",
    "from datetime import datetime\n",
    "from ipynb.fs.full.Utils import findTrade"
   ]
  },
  {
   "cell_type": "code",
   "execution_count": 2,
   "id": "dd51dc16",
   "metadata": {},
   "outputs": [],
   "source": [
    "# initialRange : Time taken to create initial range\n",
    "# rangebreakpremium: premium of entry for sell\n",
    "values = {\"initialRange\" : 30 , \"rangebreakpremium\" : 100, 'buffer': 20, 'smallma': 10, \"largema\": 30}\n",
    "positive = 0 \n",
    "pl = 0\n",
    "timeData = []\n",
    "malow = 0\n",
    "mahigh = 0\n",
    "inTrade = 0\n",
    "sl = 0\n",
    "target = 0\n",
    "prevDay = 0\n",
    "def SimpleMovingAverage(day, time, inputData):\n",
    "\n",
    "    global  state, currentTrades, timeData, pl, sl, target, inTrade, malow, mahigh, positive, prevTime\n",
    "    inputdf = pd.DataFrame(inputData)\n",
    "\n",
    "    currmarket = inputdf.loc[inputdf[0] == \"BANKNIFTY\"][1].iloc[0]\n",
    "    timeData.append(currmarket)\n",
    "    # return if BANKNIFTY data not available\n",
    "    if not(currmarket > 0):\n",
    "        return\n",
    "    if(time < values['largema']):\n",
    "        return\n",
    "    \n",
    "    if(time > 350 and inTrade == 1):\n",
    "        pl+=currmarket\n",
    "    \n",
    "    if(time > 360):\n",
    "        timeData = []\n",
    "        print(pl)\n",
    "        return\n",
    "    \n",
    "    malow = sum(timeData[-values['smallma']:])/values['smallma']\n",
    "    mahigh = sum(timeData[-values['largema']:])/values['largema']\n",
    "    \n",
    "    if inTrade == 1:\n",
    "        if(currmarket < sl or currmarket > target):\n",
    "            pl+=currmarket\n",
    "            print (currmarket*-1, time)\n",
    "            inTrade=0\n",
    "    if positive == False and malow > mahigh and inTrade == 0:\n",
    "        pl -= currmarket\n",
    "        inTrade = 1\n",
    "        sl = currmarket*0.999\n",
    "        target = currmarket * 1.001\n",
    "        print (currmarket, time)\n",
    "    positive = malow > mahigh;     \n",
    "    prevDay = day"
   ]
  },
  {
   "cell_type": "code",
   "execution_count": null,
   "id": "9d3fa239",
   "metadata": {},
   "outputs": [],
   "source": []
  }
 ],
 "metadata": {
  "kernelspec": {
   "display_name": "Python 3 (ipykernel)",
   "language": "python",
   "name": "python3"
  },
  "language_info": {
   "codemirror_mode": {
    "name": "ipython",
    "version": 3
   },
   "file_extension": ".py",
   "mimetype": "text/x-python",
   "name": "python",
   "nbconvert_exporter": "python",
   "pygments_lexer": "ipython3",
   "version": "3.9.7"
  }
 },
 "nbformat": 4,
 "nbformat_minor": 5
}
