{
 "cells": [
  {
   "cell_type": "code",
   "execution_count": 1,
   "id": "4fb4463c",
   "metadata": {},
   "outputs": [],
   "source": [
    "import pandas as pd\n",
    "import numpy as np\n",
    "from datetime import datetime\n",
    "from ipynb.fs.full.IntradayRange import IntradayRange\n",
    "#from ipynb.fs.full.IntradayRangeBreak import IntradayRangeBreak\n",
    "from ipynb.fs.full.SMA import SimpleMovingAverage\n"
   ]
  },
  {
   "cell_type": "code",
   "execution_count": 4,
   "id": "d83517f9",
   "metadata": {},
   "outputs": [
    {
     "ename": "KeyError",
     "evalue": "5666346346342",
     "output_type": "error",
     "traceback": [
      "\u001b[0;31m---------------------------------------------------------------------------\u001b[0m",
      "\u001b[0;31mKeyError\u001b[0m                                  Traceback (most recent call last)",
      "\u001b[0;32m/var/folders/dp/62hlb9qx1j92p6cwl7d1rxlr0000gp/T/ipykernel_9176/879093635.py\u001b[0m in \u001b[0;36m<module>\u001b[0;34m\u001b[0m\n\u001b[1;32m      5\u001b[0m \u001b[0mdf\u001b[0m \u001b[0;34m=\u001b[0m \u001b[0mdf\u001b[0m\u001b[0;34m.\u001b[0m\u001b[0msort_values\u001b[0m\u001b[0;34m(\u001b[0m\u001b[0mby\u001b[0m\u001b[0;34m=\u001b[0m\u001b[0;34m[\u001b[0m\u001b[0;34m'Date/Time'\u001b[0m\u001b[0;34m,\u001b[0m \u001b[0;34m'Ticker'\u001b[0m\u001b[0;34m]\u001b[0m\u001b[0;34m)\u001b[0m\u001b[0;34m\u001b[0m\u001b[0;34m\u001b[0m\u001b[0m\n\u001b[1;32m      6\u001b[0m \u001b[0mdf\u001b[0m \u001b[0;34m=\u001b[0m \u001b[0mdf\u001b[0m\u001b[0;34m.\u001b[0m\u001b[0mreset_index\u001b[0m\u001b[0;34m(\u001b[0m\u001b[0;34m)\u001b[0m  \u001b[0;31m# make sure indexes pair with number of rows\u001b[0m\u001b[0;34m\u001b[0m\u001b[0;34m\u001b[0m\u001b[0m\n\u001b[0;32m----> 7\u001b[0;31m \u001b[0mprevtimestamp\u001b[0m \u001b[0;34m=\u001b[0m \u001b[0mdf\u001b[0m\u001b[0;34m.\u001b[0m\u001b[0mat\u001b[0m\u001b[0;34m[\u001b[0m\u001b[0;36m5666346346342\u001b[0m\u001b[0;34m,\u001b[0m\u001b[0;34m'Date/Time'\u001b[0m\u001b[0;34m]\u001b[0m\u001b[0;34m\u001b[0m\u001b[0;34m\u001b[0m\u001b[0m\n\u001b[0m\u001b[1;32m      8\u001b[0m \u001b[0mallvalues\u001b[0m \u001b[0;34m=\u001b[0m \u001b[0;34m[\u001b[0m\u001b[0;34m]\u001b[0m\u001b[0;34m\u001b[0m\u001b[0;34m\u001b[0m\u001b[0m\n\u001b[1;32m      9\u001b[0m \u001b[0malltrades\u001b[0m \u001b[0;34m=\u001b[0m \u001b[0;34m[\u001b[0m\u001b[0;34m]\u001b[0m\u001b[0;34m\u001b[0m\u001b[0;34m\u001b[0m\u001b[0m\n",
      "\u001b[0;32m~/opt/anaconda3/lib/python3.9/site-packages/pandas/core/indexing.py\u001b[0m in \u001b[0;36m__getitem__\u001b[0;34m(self, key)\u001b[0m\n\u001b[1;32m   2273\u001b[0m             \u001b[0;32mreturn\u001b[0m \u001b[0mself\u001b[0m\u001b[0;34m.\u001b[0m\u001b[0mobj\u001b[0m\u001b[0;34m.\u001b[0m\u001b[0mloc\u001b[0m\u001b[0;34m[\u001b[0m\u001b[0mkey\u001b[0m\u001b[0;34m]\u001b[0m\u001b[0;34m\u001b[0m\u001b[0;34m\u001b[0m\u001b[0m\n\u001b[1;32m   2274\u001b[0m \u001b[0;34m\u001b[0m\u001b[0m\n\u001b[0;32m-> 2275\u001b[0;31m         \u001b[0;32mreturn\u001b[0m \u001b[0msuper\u001b[0m\u001b[0;34m(\u001b[0m\u001b[0;34m)\u001b[0m\u001b[0;34m.\u001b[0m\u001b[0m__getitem__\u001b[0m\u001b[0;34m(\u001b[0m\u001b[0mkey\u001b[0m\u001b[0;34m)\u001b[0m\u001b[0;34m\u001b[0m\u001b[0;34m\u001b[0m\u001b[0m\n\u001b[0m\u001b[1;32m   2276\u001b[0m \u001b[0;34m\u001b[0m\u001b[0m\n\u001b[1;32m   2277\u001b[0m     \u001b[0;32mdef\u001b[0m \u001b[0m__setitem__\u001b[0m\u001b[0;34m(\u001b[0m\u001b[0mself\u001b[0m\u001b[0;34m,\u001b[0m \u001b[0mkey\u001b[0m\u001b[0;34m,\u001b[0m \u001b[0mvalue\u001b[0m\u001b[0;34m)\u001b[0m\u001b[0;34m:\u001b[0m\u001b[0;34m\u001b[0m\u001b[0;34m\u001b[0m\u001b[0m\n",
      "\u001b[0;32m~/opt/anaconda3/lib/python3.9/site-packages/pandas/core/indexing.py\u001b[0m in \u001b[0;36m__getitem__\u001b[0;34m(self, key)\u001b[0m\n\u001b[1;32m   2220\u001b[0m \u001b[0;34m\u001b[0m\u001b[0m\n\u001b[1;32m   2221\u001b[0m         \u001b[0mkey\u001b[0m \u001b[0;34m=\u001b[0m \u001b[0mself\u001b[0m\u001b[0;34m.\u001b[0m\u001b[0m_convert_key\u001b[0m\u001b[0;34m(\u001b[0m\u001b[0mkey\u001b[0m\u001b[0;34m)\u001b[0m\u001b[0;34m\u001b[0m\u001b[0;34m\u001b[0m\u001b[0m\n\u001b[0;32m-> 2222\u001b[0;31m         \u001b[0;32mreturn\u001b[0m \u001b[0mself\u001b[0m\u001b[0;34m.\u001b[0m\u001b[0mobj\u001b[0m\u001b[0;34m.\u001b[0m\u001b[0m_get_value\u001b[0m\u001b[0;34m(\u001b[0m\u001b[0;34m*\u001b[0m\u001b[0mkey\u001b[0m\u001b[0;34m,\u001b[0m \u001b[0mtakeable\u001b[0m\u001b[0;34m=\u001b[0m\u001b[0mself\u001b[0m\u001b[0;34m.\u001b[0m\u001b[0m_takeable\u001b[0m\u001b[0;34m)\u001b[0m\u001b[0;34m\u001b[0m\u001b[0;34m\u001b[0m\u001b[0m\n\u001b[0m\u001b[1;32m   2223\u001b[0m \u001b[0;34m\u001b[0m\u001b[0m\n\u001b[1;32m   2224\u001b[0m     \u001b[0;32mdef\u001b[0m \u001b[0m__setitem__\u001b[0m\u001b[0;34m(\u001b[0m\u001b[0mself\u001b[0m\u001b[0;34m,\u001b[0m \u001b[0mkey\u001b[0m\u001b[0;34m,\u001b[0m \u001b[0mvalue\u001b[0m\u001b[0;34m)\u001b[0m\u001b[0;34m:\u001b[0m\u001b[0;34m\u001b[0m\u001b[0;34m\u001b[0m\u001b[0m\n",
      "\u001b[0;32m~/opt/anaconda3/lib/python3.9/site-packages/pandas/core/frame.py\u001b[0m in \u001b[0;36m_get_value\u001b[0;34m(self, index, col, takeable)\u001b[0m\n\u001b[1;32m   3577\u001b[0m \u001b[0;34m\u001b[0m\u001b[0m\n\u001b[1;32m   3578\u001b[0m         \u001b[0;32mtry\u001b[0m\u001b[0;34m:\u001b[0m\u001b[0;34m\u001b[0m\u001b[0;34m\u001b[0m\u001b[0m\n\u001b[0;32m-> 3579\u001b[0;31m             \u001b[0mloc\u001b[0m \u001b[0;34m=\u001b[0m \u001b[0mengine\u001b[0m\u001b[0;34m.\u001b[0m\u001b[0mget_loc\u001b[0m\u001b[0;34m(\u001b[0m\u001b[0mindex\u001b[0m\u001b[0;34m)\u001b[0m\u001b[0;34m\u001b[0m\u001b[0;34m\u001b[0m\u001b[0m\n\u001b[0m\u001b[1;32m   3580\u001b[0m             \u001b[0;32mreturn\u001b[0m \u001b[0mseries\u001b[0m\u001b[0;34m.\u001b[0m\u001b[0m_values\u001b[0m\u001b[0;34m[\u001b[0m\u001b[0mloc\u001b[0m\u001b[0;34m]\u001b[0m\u001b[0;34m\u001b[0m\u001b[0;34m\u001b[0m\u001b[0m\n\u001b[1;32m   3581\u001b[0m         \u001b[0;32mexcept\u001b[0m \u001b[0mAttributeError\u001b[0m\u001b[0;34m:\u001b[0m\u001b[0;34m\u001b[0m\u001b[0;34m\u001b[0m\u001b[0m\n",
      "\u001b[0;32m~/opt/anaconda3/lib/python3.9/site-packages/pandas/_libs/index.pyx\u001b[0m in \u001b[0;36mpandas._libs.index.IndexEngine.get_loc\u001b[0;34m()\u001b[0m\n",
      "\u001b[0;32m~/opt/anaconda3/lib/python3.9/site-packages/pandas/_libs/index.pyx\u001b[0m in \u001b[0;36mpandas._libs.index.IndexEngine.get_loc\u001b[0;34m()\u001b[0m\n",
      "\u001b[0;32mpandas/_libs/hashtable_class_helper.pxi\u001b[0m in \u001b[0;36mpandas._libs.hashtable.Int64HashTable.get_item\u001b[0;34m()\u001b[0m\n",
      "\u001b[0;32mpandas/_libs/hashtable_class_helper.pxi\u001b[0m in \u001b[0;36mpandas._libs.hashtable.Int64HashTable.get_item\u001b[0;34m()\u001b[0m\n",
      "\u001b[0;31mKeyError\u001b[0m: 5666346346342"
     ]
    }
   ],
   "source": [
    "df = pd.read_csv('Tradedata/W210708.csv')\n",
    "df = df.dropna()\n",
    "df = df.fillna(0)\n",
    "#print(df)\n",
    "df = df.sort_values(by=['Date/Time', 'Ticker'])\n",
    "df = df.reset_index()  # make sure indexes pair with number of rows\n",
    "prevtimestamp = df.at[2,'Date/Time']\n",
    "allvalues = []\n",
    "alltrades = []\n",
    "validity = False\n",
    "for index, row in df.iterrows():\n",
    "    if index > 100000:\n",
    "        break\n",
    "    action = None\n",
    "    if (row['Date/Time'] != prevtimestamp):\n",
    "        currentTime = datetime.strptime(prevtimestamp, '%d-%m-%Y %H:%M:%S')\n",
    "        if(row['Ticker'] == \"BANKNIFTY\"):\n",
    "            validity = True\n",
    "        if validity:\n",
    "            #action = IntradayRange(currentTime.timetuple().tm_yday, (currentTime.timestamp()% 86400 -13500)/60 , allvalues)\n",
    "            action = SimpleMovingAverage(currentTime.timetuple().tm_yday, (currentTime.timestamp()% 86400 -13500)/60 , allvalues)\n",
    "        #IntradayRangeBreak(1,1,allvalues)\n",
    "        allvalues = []\n",
    "        validity = False\n",
    "    \n",
    "    allvalues.append([row['Ticker'] ,row['Close'], row['Volume'], row['Open Interest']])\n",
    "    if (action is not None):\n",
    "        for trade in action:\n",
    "            trade.append(prevtimestamp)\n",
    "            alltrades.append(trade)\n",
    "    prevtimestamp = row['Date/Time']\n",
    "\n",
    "#print(alltrades)"
   ]
  },
  {
   "cell_type": "code",
   "execution_count": null,
   "id": "f3ef6232",
   "metadata": {},
   "outputs": [],
   "source": []
  },
  {
   "cell_type": "code",
   "execution_count": null,
   "id": "4e82902b",
   "metadata": {},
   "outputs": [],
   "source": []
  },
  {
   "cell_type": "code",
   "execution_count": null,
   "id": "2d5c6df0",
   "metadata": {},
   "outputs": [],
   "source": [
    "\n",
    "\n",
    "def findTrade(isPE, premium, data):\n",
    "    if isPE:\n",
    "        filtereddata = data.loc[data[0].str.match('^BANKNIFTY.*PE.*')== True]\n",
    "    else:\n",
    "        filtereddata = data.loc[data[0].str.match('^BANKNIFTY.*CE.*')== True]\n",
    "    filtereddata = filtereddata.sort_values(by=[1])\n",
    "    filtereddata = filtereddata.loc[(data[1]>premium)== True][:1]\n",
    "    return [filtereddata[0].values[0],filtereddata[1].values[0]]\n",
    "\n",
    "\n",
    "# trade format: [name, price, buy/sell, strategy]\n",
    "#sl,target in portion of 1 eg, sl:0.2 (20%), target: 0.5 (50%)\n",
    "def exitTrades(trades, currdata, sl, target):\n",
    "    response = []\n",
    "    currdf = pd.DataFrame(currdata)\n",
    "    curr = currdf.loc[currdata[0] == \"BANKNIFTY\"][1].iloc[0]\n",
    "    print(currdf)\n",
    "    for trade in trades:\n",
    "        if((trade[2] == \"BUY\") and ((curr > (trade[1]*(1+target))) or (curr < (trade[1]*(1-sl))))):\n",
    "            tradeprice = currdata.loc[currdata[0] == trade[0]][1].iloc[0]\n",
    "            newtrade = trade.copy()\n",
    "            newtrade[1] = tradeprice\n",
    "            newtrade[2] = \"SELL\"\n",
    "            response.append(newtrade)\n",
    "        elif ((trade[2] == \"SELL\") and ((curr > (trade[1]*(1+sl))) or (curr < (trade[1]*(1-target))))):\n",
    "            tradeprice = currdata.loc[currdata[0] == trade[0]][1].iloc[0]\n",
    "            newtrade = trade.copy()\n",
    "            newtrade[1] = tradeprice\n",
    "            newtrade[2] = \"BUY\"\n",
    "            response.append(newtrade)\n",
    "    if(len(response) > 0):\n",
    "        print(curr,sl,target)\n",
    "        print(\"11111\\n\")\n",
    "        print(trades)\n",
    "        print(\"22222\\n\")\n",
    "        print(response)\n",
    "        print(\"33333\\n\")\n",
    "        \n",
    "    return response\n",
    "              "
   ]
  }
 ],
 "metadata": {
  "kernelspec": {
   "display_name": "Python 3 (ipykernel)",
   "language": "python",
   "name": "python3"
  },
  "language_info": {
   "codemirror_mode": {
    "name": "ipython",
    "version": 3
   },
   "file_extension": ".py",
   "mimetype": "text/x-python",
   "name": "python",
   "nbconvert_exporter": "python",
   "pygments_lexer": "ipython3",
   "version": "3.9.7"
  }
 },
 "nbformat": 4,
 "nbformat_minor": 5
}
